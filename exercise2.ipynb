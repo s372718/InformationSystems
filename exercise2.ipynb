{
 "cells": [
  {
   "cell_type": "markdown",
   "metadata": {
    "id": "Gw267kfC6Ur6"
   },
   "source": [
    "# Exercise API"
   ]
  },
  {
   "cell_type": "markdown",
   "metadata": {
    "id": "_sjVD2-n6UsD"
   },
   "source": [
    "Several interface (API) technologies have already been introduced in the exercise. One of the hardest things about APIs is understanding what they really are, as the concept is very abstract. Our examples use familiar services to show what is possible with different APIs. **The following exercise is about getting to know one of the technologies presented in the exercise**. To do this, we will explore some REST APIs of external services. We will try to analyse known platforms with regard to their interfaces and make an exemplary API call.\n",
    "\n",
    "The concept of APIs is transferable from the technologies presented here to other technologies (such as SOAP, etc.) and is only intended to convey a basic understanding of the topic. This is intended to convey the knowledge of how IT systems can be technically linked and to give a feeling for the effort involved in operating such interfaces.\n",
    "\n",
    "*Differentiation: The topic of interfaces also includes the development of interfaces in IT systems. In addition to the provision, the focus here is on the manipulation of data in the system as well as testing against various incorrect entries and IT security. The server side, i.e. the development of interfaces, is not covered in this exercise due to its complexity. In the following, we will therefore look at APIs from the client side, i.e. learn how to use existing REST interfaces to query or manipulate data and connect IT systems*"
   ]
  },
  {
   "cell_type": "markdown",
   "metadata": {
    "id": "j6uG1v2o6UsL"
   },
   "source": [
    "## 1. REST API basics"
   ]
  },
  {
   "cell_type": "markdown",
   "metadata": {
    "id": "IitQTfg76UsO"
   },
   "source": [
    "### 1.1 Interfaces, web services and REST APIs"
   ]
  },
  {
   "cell_type": "markdown",
   "metadata": {
    "id": "P3jRH2lB6UsR"
   },
   "source": [
    "A web service is a collection of open protocols and standards that are used to exchange data between applications or systems. Software applications written in different programming languages (e.g. Java and Python) and running on different platforms (e.g. Windows and Linux) can use web services to exchange data over computer networks such as the Internet. This interoperability is due to the use of open standards.\n",
    "\n",
    "Web services based on the REST architecture are known as RESTful web services. The RESTful web services considered below are considered to have a minimalist structure, be highly scalable and easy to maintain and are therefore very frequently used to create APIs for web-based applications. REST stands for \"Representational State Transfer\" and means that a service offers uniquely addressable **resources, stateless**."
   ]
  },
  {
   "cell_type": "markdown",
   "metadata": {
    "id": "GV3fuqEC6UsV"
   },
   "source": [
    "### 1.2 REST data and their formats"
   ]
  },
  {
   "cell_type": "markdown",
   "metadata": {
    "id": "jDkeNgwY6UsX"
   },
   "source": [
    "In the REST architecture, a REST server provides access to resources, while a REST client accesses or modifies the resources. Each resource is identified by URIs/global IDs. REST uses various formats to represent a resource, such as text, JSON and XML. JSON is probably the most common format, as it provides the structure in addition to the raw data."
   ]
  },
  {
   "cell_type": "markdown",
   "metadata": {
    "id": "tmRN0pUo6Usc"
   },
   "source": [
    "The following link leads to the result of the Pokeapi interface (pokeapi.co) for the Pokemon *ditto*. The result is intended to show an example of what data can look like that is returned to the client in response to a REST API call.\n",
    "\n",
    "**Task 1: Take a look at the result at https://pokeapi.co/api/v2/pokemon/ditto and try to explain to yourself what certain data means or what information is returned in the response.**\n",
    "\n",
    "It should be possible to display the result in JSON or text via the browser.\n",
    "Compare the data formats as an example."
   ]
  },
  {
   "cell_type": "markdown",
   "metadata": {
    "id": "C6ELL2kN6Usf"
   },
   "source": [
    "### 1.3 Operating REST interfaces"
   ]
  },
  {
   "cell_type": "markdown",
   "metadata": {
    "id": "o-eGV43u6Usj"
   },
   "source": [
    "RESTful web services use HTTP methods to implement the concept of the REST architecture. A RESTful web service usually defines a URI, a Uniform Resource Identifier a service, provides a resource representation such as JSON and a set of HTTP methods."
   ]
  },
  {
   "cell_type": "markdown",
   "metadata": {
    "id": "qjAdyoIT6Usl"
   },
   "source": [
    "The following four HTTP methods are commonly used in REST-based architectures.\n",
    "\n",
    "- GET - Provides read-only access to a resource.\n",
    "\n",
    "- POST - Used to create a new resource.\n",
    "\n",
    "- DELETE - Used to remove a resource.\n",
    "\n",
    "- PUT - Used to update an existing resource or create a new resource.\n"
   ]
  },
  {
   "cell_type": "markdown",
   "metadata": {
    "id": "MidiG08e6Usn"
   },
   "source": [
    "In the case of non-REST interfaces, especially interfaces of a higher abstraction layer, REST operations may be replaced by so-called CRUD operations. These originate from programming, particularly for querying and manipulating persistent memory. \n",
    "\n",
    "- Create = create data record,\n",
    "- Read or Retrieve = read data record,\n",
    "- Update = update data record,\n",
    "- Delete or Destroy = delete data record."
   ]
  },
  {
   "cell_type": "markdown",
   "metadata": {
    "id": "v8WcFTgu6Uso"
   },
   "source": [
    "### 1.4 Understanding specific REST APIs"
   ]
  },
  {
   "cell_type": "markdown",
   "metadata": {
    "id": "fX05eOwE6Usp"
   },
   "source": [
    "As software is customised over time, the interfaces can also be adapted, which is why the documentation of a software's APIs plays an important role. Technologies such as SOAP have mechanisms for this that return the description of an interface on request (see WSDL).\n",
    "REST, on the other hand, offers no such integrated mechanisms and relies on manual documentation.\n",
    "Many software manufacturers therefore have websites for systems with REST APIs, which document the APIs for developers and customers."
   ]
  },
  {
   "cell_type": "markdown",
   "metadata": {
    "id": "MFY0HS826Usq"
   },
   "source": [
    "The following link leads to the documentation of Twitter's REST API.\n",
    "\n",
    "**Task 2: Take a look at the documentation as an example and consider the HTTP methods that can be used.** https://developer.twitter.com/en/docs/api-reference-index\n",
    "\n",
    "Most manufacturers of business application systems (BAS) such as ERP or CRM systems have their own documentation. However, there are also documentation platforms for websites and services that document the respective APIs and even enable access (see https://rapidapi.com/)."
   ]
  },
  {
   "cell_type": "markdown",
   "metadata": {
    "id": "GZchQBp06Uss"
   },
   "source": [
    "### 1.5 Authentication in the REST environment\n",
    "\n",
    "Many APIs require an API key as authentication. This is either issued directly by the API provider, generated by the user themselves via their account after registering with the service provider or issued via documentation platforms such as https://rapidapi.com/. \n",
    "\n",
    "\n",
    "The following example shows an API call to the REST API from https://www.weatherapi.com of an API that enables the query of current and future weather data. The query should return the current weather situation for *Würzburg* as the response."
   ]
  },
  {
   "cell_type": "code",
   "execution_count": null,
   "metadata": {
    "id": "9nc46_oi6Usu"
   },
   "outputs": [],
   "source": [
    "# API documentation at https://www.weatherapi.com/docs/\n",
    "import requests\n",
    "from urllib.request import urlretrieve\n",
    "\n",
    "from pprint import PrettyPrinter\n",
    "pp = PrettyPrinter()\n",
    "pp = PrettyPrinter()\n",
    "\n",
    "\n",
    "# Specify API key\n",
    "apikey = \"ccc4be3ddfa74923b82165131202905\" #API-Key generiert vom Anbieter\n",
    "\n",
    "# Specify search parameters\n",
    "parameters = { \"key\": apikey, \"q\" : \"würzburg\"}\n",
    "\n",
    "# Build search query\n",
    "response = requests.get(\"https://api.weatherapi.com/v1/current.json\", params=parameters).json()\n",
    "\n",
    "# Should look like this when assembled correctly\n",
    "# https://api.weatherapi.com/v1/current.json?key=ccc4be3ddfa74923b82165131202905&q=10001\n",
    "\n",
    "\n",
    "# Output of the return data from the API call\n",
    "print(\"JSON content:\")\n",
    "pp.pprint(response)"
   ]
  },
  {
   "cell_type": "markdown",
   "metadata": {
    "id": "iDX7zrTJ6Usw"
   },
   "source": [
    "In addition to simple authentication with a key, some platforms and IT systems also use more complex authentication mechanisms such as oAuth (see https://oauth.net/), where a key exchange with an authentication server is initiated before a resource can be accessed. There are now several versions of oAuth, which must be taken into account when making a query. The following illustration shows a simplified oAuth verification process."
   ]
  },
  {
   "cell_type": "code",
   "execution_count": null,
   "metadata": {
    "colab": {
     "base_uri": "https://localhost:8080/",
     "height": 763
    },
    "id": "hQyiDWO26Usy",
    "outputId": "d30a7c11-5f49-45e4-d7ea-ab0bd6d2acb3"
   },
   "outputs": [],
   "source": [
    "from IPython.display import Image\n",
    "Image('oauth.png')"
   ]
  },
  {
   "cell_type": "markdown",
   "metadata": {
    "id": "WWmdbZMB6Usy"
   },
   "source": [
    "The following code shows an example of the Twitter API, which implements OAuth 1.0 and does not work due to missing login data."
   ]
  },
  {
   "cell_type": "code",
   "execution_count": null,
   "metadata": {
    "id": "S0cONNPT6Usz",
    "tags": [
     "Bsp.",
     "Twitter",
     "oAuth"
    ]
   },
   "outputs": [],
   "source": [
    "# https://api.twitter.com/1.1/users/lookup.json\n",
    "# https://developer.twitter.com/en/docs/accounts-and-users/follow-search-get-users/api-reference/post-friendships-create\n",
    "import requests\n",
    "from urllib.request import urlretrieve\n",
    "\n",
    "from pprint import PrettyPrinter\n",
    "pp = PrettyPrinter()\n",
    "pp = PrettyPrinter()\n",
    "\n",
    "\n",
    "#Specify API key\n",
    "apikey = \"XxXxXxXxXxXxXxXxXxXxXxXx\"\n",
    "\n",
    "# Specify parameters for the header\n",
    "parameters = { \"authorization\" : \"OAuth\", \n",
    "               \"oauth_consumer_key\" : \"YOUR_CONSUMER_KEY\", \n",
    "               \"oauth_nonce\" : \"AUTO_GENERATED_NONCE\", \n",
    "               \"oauth_signature\" : \"AUTO_GENERATED_SIGNATURE\", \n",
    "               \"oauth_signature_method\" : \"HMAC-SHA1\", \n",
    "               \"oauth_timestamp\" : \"AUTO_GENERATED_TIMESTAMP\", \n",
    "               \"oauth_token\" : \"USERS_ACCESS_TOKEN\", \n",
    "               \"oauth_version\" : \"1.0\"}\n",
    "\n",
    "# Build search query\n",
    "response = requests.get(\"https://api.twitter.com/1.1/users/lookup.json\", params=parameters).json()\n",
    "\n",
    "# Output of return data from the API call\n",
    "print(\"JSON content:\")\n",
    "pp.pprint(response)\n",
    "    \n",
    "    "
   ]
  },
  {
   "cell_type": "markdown",
   "metadata": {
    "id": "GKeha1ZQ6Us0"
   },
   "source": [
    "### 1.6  Recognise errors"
   ]
  },
  {
   "cell_type": "markdown",
   "metadata": {
    "id": "bFJYcMyl6Us0"
   },
   "source": [
    "Status codes are returned to the server with a response after each call. They briefly describe the result of the call. There are a large number of status codes, the following examples show some of the more common status codes.\n",
    "\n",
    "- 200 - OK. The request was successful. The response itself depends on the method used (GET, POST etc.) and the API specification.\n",
    "- 204 - No content. The server has successfully processed the request and returned no content.\n",
    "- 301 - Permanently postponed. The server responds that the requested page (endpoint) has been moved to another address and redirects to this address.\n",
    "- 400 - The server cannot process the request due to errors on the client side (incorrect request format).\n",
    "- 401 - Not authorised. Occurs when authentication has failed because the credentials are incorrect or even missing.\n",
    "- 403 - Forbidden. Access to the specified resource is denied.\n",
    "- 404 - Not found. The requested resource was not found on the server.\n",
    "- 500 - Internal server error. Occurs if an unknown error has occurred on the server.\n",
    "\n",
    "Note: Due to the programming of the API on the server side in the previous example, a status code 215 is given as a response from the API instead of a 401, even though the authorisation was not carried out correctly. This should actually be avoided when developing an API. Since status codes in highly networked systems can be handled further by the calling class in error handling, depending on the status code, e.g. to provide the user with the necessary information or to call an alternative API."
   ]
  },
  {
   "cell_type": "markdown",
   "metadata": {
    "id": "8fTjZNpb6Us0"
   },
   "source": [
    "## 2. Simple REST call using GET"
   ]
  },
  {
   "cell_type": "markdown",
   "metadata": {
    "id": "yjDVz_0s6Us1"
   },
   "source": [
    "The following example shows a simple rest-call to the API of https://www.weatherapi.com , which returns the weather data for New York (US ZIP code 1001)."
   ]
  },
  {
   "cell_type": "code",
   "execution_count": null,
   "metadata": {
    "id": "MPHsy8K76Us2"
   },
   "outputs": [],
   "source": [
    "import requests\n",
    "from urllib.request import urlretrieve\n",
    "\n",
    "from pprint import PrettyPrinter\n",
    "pp = PrettyPrinter()\n",
    "pp = PrettyPrinter()\n",
    "\n",
    "\n",
    "#Specify API key\n",
    "apikey = \"ccc4be3ddfa74923b82165131202905\"\n",
    "\n",
    "#Specify search parameters\n",
    "parameters = { \"key\": apikey, \"q\" : \"10001\"}\n",
    "\n",
    "#Build search query\n",
    "response = requests.get(\"https://api.weatherapi.com/v1/current.json\", params=parameters).json()\n",
    "\n",
    "#Should look like this when assembled correctly\n",
    "#https://api.weatherapi.com/v1/current.json?key=ccc4be3ddfa74923b82165131202905&q=10001\n",
    "\n",
    "\n",
    "#Output of return data from the API call\n",
    "print(\"JSON content:\")\n",
    "pp.pprint(response)"
   ]
  },
  {
   "cell_type": "markdown",
   "metadata": {
    "id": "Ns6AwxQw6Us3"
   },
   "source": [
    "## 3.  Complex queries & answers"
   ]
  },
  {
   "cell_type": "markdown",
   "metadata": {
    "id": "1ePB0EIW6Us4"
   },
   "source": [
    "However, it is not only possible to receive text or JSON in response to a REST call. The following example demonstrates a complex request with an image as the result. The NASA API is used to obtain an image of the Earth from the NASA archive."
   ]
  },
  {
   "cell_type": "markdown",
   "metadata": {
    "id": "jw7u-dbD6Us4"
   },
   "source": [
    "First, we want to display the metadata via the NASA API in order to test it."
   ]
  },
  {
   "cell_type": "code",
   "execution_count": null,
   "metadata": {
    "id": "KTHcPJhu6Us4"
   },
   "outputs": [],
   "source": [
    "import requests\n",
    "from urllib.request import urlretrieve\n",
    "\n",
    "from pprint import PrettyPrinter\n",
    "pp = PrettyPrinter()\n",
    "pp = PrettyPrinter()\n",
    "\n",
    "apiKey = \"kyQSlpAflpun4pRpvOxbgNbaXTMduFtJw7ZFEfej\"\n",
    "\n",
    "def fetchAPOD():\n",
    "  URL_APOD = \"https://api.nasa.gov/planetary/apod\"\n",
    "  date = '2020-01-22'\n",
    "  params = {\n",
    "      'api_key':apiKey,\n",
    "      'date':date,\n",
    "      'hd':'True'\n",
    "  }\n",
    "  response = requests.get(URL_APOD,params=params).json()\n",
    "  pp.pprint(response)\n",
    "\n",
    "fetchAPOD()"
   ]
  },
  {
   "cell_type": "markdown",
   "metadata": {
    "id": "qNYgTKTN6Us5"
   },
   "source": [
    "At the end of the JSON file, you can see the URL to an image file. Such image files can then also be queried after querying the metadata.\n",
    "\n",
    "Now query another image file and display it"
   ]
  },
  {
   "cell_type": "code",
   "execution_count": null,
   "metadata": {
    "id": "LXB6AU5g6Us6"
   },
   "outputs": [],
   "source": [
    "import requests\n",
    "from urllib.request import urlretrieve\n",
    "\n",
    "from pprint import PrettyPrinter\n",
    "pp = PrettyPrinter()\n",
    "pp = PrettyPrinter()\n",
    "\n",
    "apiKey = \"kyQSlpAflpun4pRpvOxbgNbaXTMduFtJw7ZFEfej\"\n",
    "\n",
    "\n",
    "def fetchEPICImage():\n",
    "  YEAR = '2015'\n",
    "  MONTH = '10'\n",
    "  DAY = '31'\n",
    "  IMAGE_ID = 'epic_1b_20151031074844'\n",
    "  URL_EPIC = \"https://epic.gsfc.nasa.gov/archive/natural/\"\n",
    "  URL_EPIC = URL_EPIC + YEAR +'/' + MONTH + '/'+DAY\n",
    "  URL_EPIC = URL_EPIC + '/png'\n",
    "  URL_EPIC = URL_EPIC + '/' + IMAGE_ID + '.png' \n",
    "  print(URL_EPIC)\n",
    "  urlretrieve(URL_EPIC,IMAGE_ID+'.png')\n",
    "  \n",
    "fetchEPICImage()\n"
   ]
  },
  {
   "cell_type": "markdown",
   "metadata": {
    "id": "pRFyJ0RK6Us7"
   },
   "source": [
    "And finally, the output of the file that we have just called & downloaded via the API"
   ]
  },
  {
   "cell_type": "code",
   "execution_count": null,
   "metadata": {
    "id": "W-xO-UlY6Us7"
   },
   "outputs": [],
   "source": [
    "# Output of the local image file \n",
    "from IPython.display import Image\n",
    "Image('epic_1b_20151031074844.png')"
   ]
  },
  {
   "cell_type": "markdown",
   "metadata": {},
   "source": [
    "## 3. Using Google Books API"
   ]
  },
  {
   "cell_type": "markdown",
   "metadata": {},
   "source": [
    "The goal of this task is to create an API key for **Google Books**. This key will allow us to access the extensive Google Books database and search for books based on various criteria such as author, title, etc.. By creating this API key, we gain the necessary access permissions to extend our applications with the powerful features of the Google Books API and seamlessly integrate book information.\n",
    "\n",
    "*   Please start by familiarising yourself with the Google Books user interface:\n",
    "> https://books.google.de/"
   ]
  },
  {
   "cell_type": "markdown",
   "metadata": {},
   "source": [
    "How to create a Google Books API key:\n",
    "    \n",
    "**1. Access to the Google Cloud Console:**\n",
    "\n",
    "*   Visit the Google Cloud Console at https://console.cloud.google.com/.\n",
    "\n",
    "*   Sign in with your Google account or create a new account if you do not already have one.\n",
    "\n",
    "\n",
    "**2.  Create a new project:**\n",
    "\n",
    "\n",
    "*   Click on the drop-down list with the project name in the top right-hand corner.\n",
    "*   Select \"Create project\".\n",
    "*   Enter a project name and click on \"Create\".\n",
    "\n",
    "\n",
    "\n",
    "**3. Activate the Google Books API:**\n",
    "\n",
    "\n",
    "*   In the Cloud Console, select \"APIs & Services\" > \"Library\" in the left-hand navigation bar\n",
    "*   Search for \"Google Books API\".\n",
    "*   Click on the entry for the Google Books API and \"activate\" it\n",
    "\n",
    "\n",
    "\n",
    "**4. Create login credentials:**\n",
    "\n",
    "\n",
    "*   Go back to the \"APIs & Services\" page and select \"Credentials\".\n",
    "*   Click on \"Create credentials\" and select \"API key\".\n",
    "\n",
    "\n",
    "\n",
    "**5. Configure the API key:**\n",
    "\n",
    "*   You can restrict the API key to only allow certain APIs or certain applications.\n",
    "*   Under \"Restrictions\", you can add IP address restrictions, for example.\n",
    "\n",
    "\n",
    "\n",
    "**6. Save the API key:**\n",
    "*   Click on \"Create\" and copy the generated API key.\n",
    "*   Keep the API key confidential to prevent unauthorised use.\n",
    "\n",
    "\n",
    "\n",
    "\n"
   ]
  },
  {
   "cell_type": "markdown",
   "metadata": {},
   "source": [
    "## Task 1\n",
    "\n",
    "With the help of the following code you can try to search for the author, book title, etc. using the api key created and display it.\n",
    "\n"
   ]
  },
  {
   "cell_type": "code",
   "execution_count": null,
   "metadata": {},
   "outputs": [],
   "source": [
    "import requests\n",
    "\n",
    "from pprint import PrettyPrinter\n",
    "pp = PrettyPrinter()\n",
    "\n",
    "api_key = 'YOUR OWN API KEY - SEE TUTORIAL ABOVE'\n",
    "base_url = 'https://www.googleapis.com/books/v1/volumes'\n",
    "\n",
    "# To refine the search, you can use certain filters. For example, you can filter by author or title.\n",
    "# You will find the entire list that Google Books API supports here: https://developers.google.com/books/docs/v1/using?hl=de#PerformingSearch\n",
    "\n",
    "query = 'inauthor:\"Jan Marco Leimeister\" intitle:\"Einführung in die Wirtschaftsinformatik\"'\n",
    "\n",
    "# on default the results list is imited to 10 items;\n",
    "# if you want to extend the results list up to 40 items ('maxResults': 40)\n",
    "params = {'q': query, 'key': api_key}\n",
    "\n",
    "# Send the request to the API\n",
    "response = requests.get(base_url, params=params)\n",
    "\n",
    "pp.pprint(response.json())"
   ]
  },
  {
   "cell_type": "code",
   "execution_count": null,
   "metadata": {},
   "outputs": [],
   "source": [
    "import requests\n",
    "from IPython.display import Image, display, HTML\n",
    "\n",
    "# Process the API response (JSON data)\n",
    "book_data = response.json()\n",
    "\n",
    "# Check if there are any books\n",
    "if 'items' in book_data:\n",
    "    # Iterate through all books\n",
    "    for book in book_data['items']:\n",
    "        # Extract book information\n",
    "        title = book['volumeInfo']['title']\n",
    "        authors = ', '.join(book['volumeInfo']['authors']) if 'authors' in book['volumeInfo'] else 'N/A'\n",
    "        published_year = book['volumeInfo']['publishedDate']\n",
    "        book_link = book['volumeInfo']['infoLink'] if 'infoLink' in book['volumeInfo'] else 'N/A'\n",
    "\n",
    "        # Check whether 'imageLinks' is available in the book\n",
    "        if 'imageLinks' in book['volumeInfo']:\n",
    "            # Extract the URL of the book cover\n",
    "            cover_url = book['volumeInfo']['imageLinks']['thumbnail']\n",
    "\n",
    "            # Show book information and book cover\n",
    "            display(HTML(f\"<h3>{title}</h3><p>Author(s): {authors}</p><p>Published Year: {published_year}</p><p>Book Link: <a href='{book_link}' target='_blank'>{book_link}</a></p>\"))\n",
    "            display(Image(url=cover_url))\n",
    "        else:\n",
    "            print(\"Book cover is not available.\")\n",
    "else:\n",
    "    print(\"No books found.\")\n"
   ]
  },
  {
   "cell_type": "markdown",
   "metadata": {},
   "source": [
    "## Task 2\n",
    "\n",
    "Search for any book or author on Google Books.\n",
    "\n"
   ]
  },
  {
   "cell_type": "code",
   "execution_count": null,
   "metadata": {},
   "outputs": [],
   "source": []
  },
  {
   "cell_type": "code",
   "execution_count": null,
   "metadata": {},
   "outputs": [],
   "source": []
  },
  {
   "cell_type": "markdown",
   "metadata": {},
   "source": [
    "# 4. Managing Recipes with TheMealDB API\n",
    "\n",
    "## Objective\n",
    "In this exercise, you will learn how to interact with TheMealDB API and practically apply the HTTP methods GET, POST, and PUT. The task involves retrieving, adding, and updating recipes. By the end of the exercise, you should be able to formulate basic API requests, work with JSON data, and understand the concepts of RESTful APIs.\n",
    "\n",
    "## Background\n",
    "The MealDB API is a free recipe database that allows developers to access a variety of recipes. You can retrieve recipes by their ID, and the API provides a structured way to present recipe details. In this exercise, you will learn how to fetch data from the API, simulate adding new recipes, and update existing ones."
   ]
  },
  {
   "cell_type": "markdown",
   "metadata": {},
   "source": [
    "## Part 1: Retrieve Recipe Details (GET)\n",
    "\n",
    "**1. Make a GET request:**\n",
    "* Use the endpoint https://www.themealdb.com/api/json/v1/1/lookup.php?i={id} to fetch the details of a recipe with the ID 52772.\n",
    "* nsure that the request is successful and returns a status code of 200.\n",
    "\n",
    "**2. Data Processing:**\n",
    "* Extract the recipe name, ingredients, and preparation steps from the retrieved data.\n",
    "* Output the results in a structured format, such as:\n",
    "* Recipe Name: [Recipe Name]\n",
    "* Ingredients: [Ingredients List]\n",
    "* Preparation: [Preparation Steps]\n",
    "          "
   ]
  },
  {
   "cell_type": "code",
   "execution_count": null,
   "metadata": {},
   "outputs": [],
   "source": []
  },
  {
   "cell_type": "markdown",
   "metadata": {},
   "source": [
    "## Part 2: Simulate Adding a New Recipe (POST)\n",
    "\n",
    "**1. Create a New Recipe:**\n",
    "* Simulate the creation of a new recipe in a local database (e.g., a list in Python).\n",
    "* Define the following properties for the new recipe:\n",
    "* id: A unique ID for the recipe (e.g., 1).\n",
    "* title: The title of the recipe (e.g., “Test Recipe”).\n",
    "* ingredients: A list of ingredients (e.g., [\"2 Eggs\", \"1 Cup of Milk\", \"200g Flour\"]).\n",
    "* instructions: The preparation steps (e.g., “Mix all ingredients and bake at 180 degrees for 20 minutes.”).\n",
    "\n",
    "**2. Data Processing:**\n",
    "* Append the new recipe to the local database.\n",
    "* Output a confirmation that the recipe was successfully created."
   ]
  },
  {
   "cell_type": "code",
   "execution_count": null,
   "metadata": {},
   "outputs": [],
   "source": []
  },
  {
   "cell_type": "markdown",
   "metadata": {},
   "source": [
    "## Part 3: Update the Recipe (PUT)\n",
    "\n",
    "**1. Update the Existing Recipe:**\n",
    "* Simulate updating the previously created recipe in the local database.\n",
    "* Change at least one of the following elements:\n",
    "* title: Update the title of the recipe.\n",
    "* ingredients: Add a new ingredient or modify an existing one.\n",
    "* instructions: Change the preparation steps.\n",
    "\n",
    "**2. Data Processing:**\n",
    "* Search for the recipe in the local database and update the corresponding fields.\n",
    "* Output a confirmation that the recipe was successfully updated, along with the new details of the recipe."
   ]
  },
  {
   "cell_type": "code",
   "execution_count": null,
   "metadata": {},
   "outputs": [],
   "source": []
  },
  {
   "cell_type": "markdown",
   "metadata": {},
   "source": [
    "## 5. Final"
   ]
  },
  {
   "cell_type": "markdown",
   "metadata": {},
   "source": [
    "The final task now is to bring together the knowledge provided. Search the internet for an API WITHOUT authentication. Save the data and think about an interesting aspect in the presentation."
   ]
  },
  {
   "cell_type": "code",
   "execution_count": null,
   "metadata": {},
   "outputs": [],
   "source": []
  },
  {
   "cell_type": "markdown",
   "metadata": {},
   "source": [
    "The final task now is to bring together the knowledge provided. Search the internet for an API WITH authentication. Save the data and think about an interesting aspect in the presentation. "
   ]
  },
  {
   "cell_type": "code",
   "execution_count": null,
   "metadata": {},
   "outputs": [],
   "source": []
  },
  {
   "cell_type": "markdown",
   "metadata": {},
   "source": [
    "## Sources"
   ]
  },
  {
   "cell_type": "markdown",
   "metadata": {},
   "source": [
    "Sources / ideas for the examples used:\n",
    "- https://openclassrooms.com/en/courses/3432056-build-your-web-projects-with-rest-apis/3496011-identify-examples-of-rest-apis\n",
    "- https://rapidapi.com\n",
    "- https://developers.google.com/youtube/v3/docs/?apix=true .\n",
    "- https://pokeapi.co/api/v2/pokemon/ditto"
   ]
  },
  {
   "cell_type": "markdown",
   "metadata": {},
   "source": [
    "© since 2024 - Information Systems - Universität Würzburg"
   ]
  },
  {
   "cell_type": "code",
   "execution_count": null,
   "metadata": {},
   "outputs": [],
   "source": []
  }
 ],
 "metadata": {
  "colab": {
   "include_colab_link": true,
   "provenance": []
  },
  "kernelspec": {
   "display_name": "Python 3 (ipykernel)",
   "language": "python",
   "name": "python3"
  },
  "language_info": {
   "codemirror_mode": {
    "name": "ipython",
    "version": 3
   },
   "file_extension": ".py",
   "mimetype": "text/x-python",
   "name": "python",
   "nbconvert_exporter": "python",
   "pygments_lexer": "ipython3",
   "version": "3.9.6"
  }
 },
 "nbformat": 4,
 "nbformat_minor": 1
}
